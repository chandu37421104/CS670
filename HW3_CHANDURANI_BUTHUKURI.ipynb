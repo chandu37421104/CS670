{
  "nbformat": 4,
  "nbformat_minor": 0,
  "metadata": {
    "colab": {
      "provenance": []
    },
    "kernelspec": {
      "name": "python3",
      "display_name": "Python 3"
    },
    "language_info": {
      "name": "python"
    }
  },
  "cells": [
    {
      "cell_type": "markdown",
      "source": [
        "# Digit Classification with the MNIST Dataset\n",
        "\n",
        "\n",
        "Objective:\n",
        "The primary goal of this assignment is to provide hands-on experience with loading datasets, preparing data for training, and using a  neural network architecture to classify handwritten digits from the MNIST dataset. This assignment aims to deepen understanding of neural networks and familiarize students with practical aspects of training models using PyTorch.\n",
        "\n",
        "Setup and Requirements Installation:"
      ],
      "metadata": {
        "id": "uP6qIP_Wyv-s"
      }
    },
    {
      "cell_type": "code",
      "source": [
        "!pip install torch torchvision"
      ],
      "metadata": {
        "id": "BB2gEaviw4IV",
        "colab": {
          "base_uri": "https://localhost:8080/"
        },
        "outputId": "42f17517-6b21-496a-8309-eb53ad04a4cd"
      },
      "execution_count": 12,
      "outputs": [
        {
          "output_type": "stream",
          "name": "stdout",
          "text": [
            "Requirement already satisfied: torch in /usr/local/lib/python3.10/dist-packages (2.2.1+cu121)\n",
            "Requirement already satisfied: torchvision in /usr/local/lib/python3.10/dist-packages (0.17.1+cu121)\n",
            "Requirement already satisfied: filelock in /usr/local/lib/python3.10/dist-packages (from torch) (3.13.3)\n",
            "Requirement already satisfied: typing-extensions>=4.8.0 in /usr/local/lib/python3.10/dist-packages (from torch) (4.10.0)\n",
            "Requirement already satisfied: sympy in /usr/local/lib/python3.10/dist-packages (from torch) (1.12)\n",
            "Requirement already satisfied: networkx in /usr/local/lib/python3.10/dist-packages (from torch) (3.2.1)\n",
            "Requirement already satisfied: jinja2 in /usr/local/lib/python3.10/dist-packages (from torch) (3.1.3)\n",
            "Requirement already satisfied: fsspec in /usr/local/lib/python3.10/dist-packages (from torch) (2023.6.0)\n",
            "Requirement already satisfied: nvidia-cuda-nvrtc-cu12==12.1.105 in /usr/local/lib/python3.10/dist-packages (from torch) (12.1.105)\n",
            "Requirement already satisfied: nvidia-cuda-runtime-cu12==12.1.105 in /usr/local/lib/python3.10/dist-packages (from torch) (12.1.105)\n",
            "Requirement already satisfied: nvidia-cuda-cupti-cu12==12.1.105 in /usr/local/lib/python3.10/dist-packages (from torch) (12.1.105)\n",
            "Requirement already satisfied: nvidia-cudnn-cu12==8.9.2.26 in /usr/local/lib/python3.10/dist-packages (from torch) (8.9.2.26)\n",
            "Requirement already satisfied: nvidia-cublas-cu12==12.1.3.1 in /usr/local/lib/python3.10/dist-packages (from torch) (12.1.3.1)\n",
            "Requirement already satisfied: nvidia-cufft-cu12==11.0.2.54 in /usr/local/lib/python3.10/dist-packages (from torch) (11.0.2.54)\n",
            "Requirement already satisfied: nvidia-curand-cu12==10.3.2.106 in /usr/local/lib/python3.10/dist-packages (from torch) (10.3.2.106)\n",
            "Requirement already satisfied: nvidia-cusolver-cu12==11.4.5.107 in /usr/local/lib/python3.10/dist-packages (from torch) (11.4.5.107)\n",
            "Requirement already satisfied: nvidia-cusparse-cu12==12.1.0.106 in /usr/local/lib/python3.10/dist-packages (from torch) (12.1.0.106)\n",
            "Requirement already satisfied: nvidia-nccl-cu12==2.19.3 in /usr/local/lib/python3.10/dist-packages (from torch) (2.19.3)\n",
            "Requirement already satisfied: nvidia-nvtx-cu12==12.1.105 in /usr/local/lib/python3.10/dist-packages (from torch) (12.1.105)\n",
            "Requirement already satisfied: triton==2.2.0 in /usr/local/lib/python3.10/dist-packages (from torch) (2.2.0)\n",
            "Requirement already satisfied: nvidia-nvjitlink-cu12 in /usr/local/lib/python3.10/dist-packages (from nvidia-cusolver-cu12==11.4.5.107->torch) (12.4.127)\n",
            "Requirement already satisfied: numpy in /usr/local/lib/python3.10/dist-packages (from torchvision) (1.25.2)\n",
            "Requirement already satisfied: pillow!=8.3.*,>=5.3.0 in /usr/local/lib/python3.10/dist-packages (from torchvision) (9.4.0)\n",
            "Requirement already satisfied: MarkupSafe>=2.0 in /usr/local/lib/python3.10/dist-packages (from jinja2->torch) (2.1.5)\n",
            "Requirement already satisfied: mpmath>=0.19 in /usr/local/lib/python3.10/dist-packages (from sympy->torch) (1.3.0)\n"
          ]
        }
      ]
    },
    {
      "cell_type": "markdown",
      "source": [
        "1. Load the MNIST Dataset\n",
        "First, let's import the necessary libraries and load the MNIST dataset.\n",
        "\n"
      ],
      "metadata": {
        "id": "cXKGEzPf0q_p"
      }
    },
    {
      "cell_type": "code",
      "source": [
        "#todo: based on what you learned in assignment 2, load train and test datasets\n",
        "import torch\n",
        "import torch.nn as nn\n",
        "import torch.nn.functional as F\n",
        "import torch.optim as optim\n",
        "from torch.utils.data import DataLoader\n",
        "from torchvision import datasets, transforms\n",
        "\n",
        "# Define a transform to normalize the data\n",
        "transform = transforms.Compose([transforms.ToTensor(),\n",
        "                                transforms.Normalize((0.5,), (0.5,))])\n",
        "\n",
        "# Download and load the training data\n",
        "trainset = datasets.MNIST('~/.pytorch/MNIST_data/', download=True, train=True, transform=transform)\n",
        "trainloader = torch.utils.data.DataLoader(trainset, batch_size=64, shuffle=True)\n",
        "\n",
        "# Download and load the test data\n",
        "testset = datasets.MNIST('', download=True, train=False, transform=transform)\n",
        "testloader = DataLoader(testset, batch_size=64, shuffle=False)"
      ],
      "metadata": {
        "id": "U4pHf3BLzG-n"
      },
      "execution_count": 13,
      "outputs": []
    },
    {
      "cell_type": "markdown",
      "source": [
        "2. Define the Model Architecture\n",
        "Here is the neural network model architecture ."
      ],
      "metadata": {
        "id": "-SipTNTb1QhL"
      }
    },
    {
      "cell_type": "code",
      "source": [
        "class Net(nn.Module):\n",
        "    def __init__(self):\n",
        "        super(Net, self).__init__()\n",
        "        self.flatten = nn.Flatten()\n",
        "        self.fc1 = nn.Linear(28*28, 128)\n",
        "        self.dropout = nn.Dropout(0.2)\n",
        "        self.fc2 = nn.Linear(128, 10)\n",
        "\n",
        "    def forward(self, x):\n",
        "        x = self.flatten(x)\n",
        "        x = F.relu(self.fc1(x))\n",
        "        x = self.dropout(x)\n",
        "        x = self.fc2(x)\n",
        "        return F.log_softmax(x, dim=1)\n",
        "\n",
        "model = Net()\n"
      ],
      "metadata": {
        "id": "LzPjwjPgzV9A"
      },
      "execution_count": 14,
      "outputs": []
    },
    {
      "cell_type": "markdown",
      "source": [
        "3. Train the Model\n",
        "Define the optimizer and loss function, and then train the model."
      ],
      "metadata": {
        "id": "PAqFgw9F1cZy"
      }
    },
    {
      "cell_type": "code",
      "source": [
        "optimizer = optim.Adam(model.parameters(), lr=0.003)\n",
        "criterion = nn.NLLLoss()\n",
        "\n",
        "epochs = 5\n",
        "for e in range(epochs):\n",
        "    running_loss = 0\n",
        "    for images, labels in trainloader:\n",
        "        optimizer.zero_grad()\n",
        "\n",
        "        log_ps = model(images)\n",
        "        loss = criterion(log_ps, labels)\n",
        "        loss.backward()\n",
        "        optimizer.step()\n",
        "\n",
        "        running_loss += loss.item()\n",
        "    else:\n",
        "        print(f\"Training loss: {running_loss/len(trainloader)}\")\n"
      ],
      "metadata": {
        "id": "KzD8U0IXzhJY",
        "colab": {
          "base_uri": "https://localhost:8080/"
        },
        "outputId": "21261fae-6304-4d27-be07-bbd786201361"
      },
      "execution_count": 15,
      "outputs": [
        {
          "output_type": "stream",
          "name": "stdout",
          "text": [
            "Training loss: 0.440348730801837\n",
            "Training loss: 0.29139084541308347\n",
            "Training loss: 0.2650700295403568\n",
            "Training loss: 0.24207910959686296\n",
            "Training loss: 0.23724857671881344\n"
          ]
        }
      ]
    },
    {
      "cell_type": "markdown",
      "source": [
        "4. Evaluate the Model\n",
        "Finally, evaluate the model's performance on the test dataset."
      ],
      "metadata": {
        "id": "A-cGZEbc1rrN"
      }
    },
    {
      "cell_type": "code",
      "source": [
        "correct = 0\n",
        "total = 0\n",
        "with torch.no_grad():\n",
        "    for images, labels in testloader:\n",
        "        log_ps = model(images)\n",
        "        _, predicted = torch.max(log_ps.data, 1)\n",
        "        total += labels.size(0)\n",
        "        correct += (predicted == labels).sum().item()\n",
        "\n",
        "print(f'Accuracy of the network on the 10000 test images: {100 * correct // total} %')\n"
      ],
      "metadata": {
        "id": "RjIoOnz1zlm0",
        "colab": {
          "base_uri": "https://localhost:8080/"
        },
        "outputId": "500eef6d-b058-469d-a2da-c4beac0fac00"
      },
      "execution_count": 16,
      "outputs": [
        {
          "output_type": "stream",
          "name": "stdout",
          "text": [
            "Accuracy of the network on the 10000 test images: 92 %\n"
          ]
        }
      ]
    },
    {
      "cell_type": "code",
      "source": [
        "# todo : Change the Number of Epochs\n",
        "# Modify the number of epochs in the training loop. Try training the model for more epochs (e.g., 10, 15) and fewer epochs (e.g., 1, 3). Observe how this affects the training loss and the accuracy on the test dataset.\n",
        "\n",
        "# How does increasing the number of epochs affect the model's performance and training time? explain\n"
      ],
      "metadata": {
        "id": "sZZimflv0F6S"
      },
      "execution_count": 17,
      "outputs": []
    },
    {
      "cell_type": "markdown",
      "source": [
        "**for 15 epochs, naming as model1**"
      ],
      "metadata": {
        "id": "q9HjZzCMggZD"
      }
    },
    {
      "cell_type": "code",
      "source": [
        "class Net1(nn.Module):\n",
        "    def __init__(self):\n",
        "        super(Net1, self).__init__()\n",
        "        self.flatten = nn.Flatten()\n",
        "        self.fc1 = nn.Linear(28*28, 128)\n",
        "        self.dropout = nn.Dropout(0.2)\n",
        "        self.fc2 = nn.Linear(128, 10)\n",
        "\n",
        "    def forward(self, x):\n",
        "        x = self.flatten(x)\n",
        "        x = F.relu(self.fc1(x))\n",
        "        x = self.dropout(x)\n",
        "        x = self.fc2(x)\n",
        "        return F.log_softmax(x, dim=1)\n",
        "\n",
        "model1 = Net1()\n"
      ],
      "metadata": {
        "id": "ldqUDc8_c6eQ"
      },
      "execution_count": 18,
      "outputs": []
    },
    {
      "cell_type": "code",
      "source": [
        "optimizer = optim.Adam(model1.parameters(), lr=0.003)\n",
        "criterion = nn.NLLLoss()\n",
        "\n",
        "epochs = 15\n",
        "for e in range(epochs):\n",
        "    running_loss = 0\n",
        "    for images, labels in trainloader:\n",
        "        optimizer.zero_grad()\n",
        "        log_ps = model1(images)\n",
        "        loss = criterion(log_ps, labels)\n",
        "        loss.backward()\n",
        "        optimizer.step()\n",
        "        running_loss += loss.item()\n",
        "    else:\n",
        "        print(f\"Training loss: {running_loss/len(trainloader)}\")\n"
      ],
      "metadata": {
        "colab": {
          "base_uri": "https://localhost:8080/"
        },
        "id": "syWHf6JeaGPp",
        "outputId": "0d6ab20f-9206-493f-f99c-af951e87646a"
      },
      "execution_count": 19,
      "outputs": [
        {
          "output_type": "stream",
          "name": "stdout",
          "text": [
            "Training loss: 0.38634862359176314\n",
            "Training loss: 0.24945111940902814\n",
            "Training loss: 0.22179826173875758\n",
            "Training loss: 0.2031336947381973\n",
            "Training loss: 0.19796393529128736\n",
            "Training loss: 0.18620658438128512\n",
            "Training loss: 0.1814779923764119\n",
            "Training loss: 0.17358849465009024\n",
            "Training loss: 0.163755812894688\n",
            "Training loss: 0.16178379429063436\n",
            "Training loss: 0.15367032245381365\n",
            "Training loss: 0.1543231688515305\n",
            "Training loss: 0.15216508928809497\n",
            "Training loss: 0.14877801622276002\n",
            "Training loss: 0.14963971558801417\n"
          ]
        }
      ]
    },
    {
      "cell_type": "code",
      "source": [
        "correct = 0\n",
        "total = 0\n",
        "with torch.no_grad():\n",
        "    for images, labels in testloader:\n",
        "        log_ps = model1(images)\n",
        "        _, predicted = torch.max(log_ps.data, 1)\n",
        "        total += labels.size(0)\n",
        "        correct += (predicted == labels).sum().item()\n",
        "\n",
        "print(f'Accuracy of the network on the 10000 test images: {100 * correct // total} %')\n"
      ],
      "metadata": {
        "colab": {
          "base_uri": "https://localhost:8080/"
        },
        "id": "tNg7QqwbcmTq",
        "outputId": "e7c9a452-dfe3-4d9c-a30f-3c4379b48e02"
      },
      "execution_count": 20,
      "outputs": [
        {
          "output_type": "stream",
          "name": "stdout",
          "text": [
            "Accuracy of the network on the 10000 test images: 94 %\n"
          ]
        }
      ]
    },
    {
      "cell_type": "markdown",
      "source": [
        "**for 2 epochs, naming as model2**"
      ],
      "metadata": {
        "id": "mEO_fyhIgqA7"
      }
    },
    {
      "cell_type": "code",
      "source": [
        "class Net2(nn.Module):\n",
        "    def __init__(self):\n",
        "        super(Net2, self).__init__()\n",
        "        self.flatten = nn.Flatten()\n",
        "        self.fc1 = nn.Linear(28*28, 128)\n",
        "        self.dropout = nn.Dropout(0.2)\n",
        "        self.fc2 = nn.Linear(128, 10)\n",
        "\n",
        "    def forward(self, x):\n",
        "        x = self.flatten(x)\n",
        "        x = F.relu(self.fc1(x))\n",
        "        x = self.dropout(x)\n",
        "        x = self.fc2(x)\n",
        "        return F.log_softmax(x, dim=1)\n",
        "\n",
        "model2 = Net2()"
      ],
      "metadata": {
        "id": "RhbkZAIgf3NX"
      },
      "execution_count": 21,
      "outputs": []
    },
    {
      "cell_type": "code",
      "source": [
        "optimizer = optim.Adam(model2.parameters(), lr=0.003)\n",
        "criterion = nn.NLLLoss()\n",
        "\n",
        "epochs = 2\n",
        "for e in range(epochs):\n",
        "    running_loss = 0\n",
        "    for images, labels in trainloader:\n",
        "        optimizer.zero_grad()\n",
        "        log_ps = model2(images)\n",
        "        loss = criterion(log_ps, labels)\n",
        "        loss.backward()\n",
        "        optimizer.step()\n",
        "        running_loss += loss.item()\n",
        "    else:\n",
        "        print(f\"Training loss: {running_loss/len(trainloader)}\")\n"
      ],
      "metadata": {
        "colab": {
          "base_uri": "https://localhost:8080/"
        },
        "id": "1K4nvBaRcr5i",
        "outputId": "a1a80df9-1dcc-4fec-bbd0-c6ea81c892fc"
      },
      "execution_count": 10,
      "outputs": [
        {
          "output_type": "stream",
          "name": "stdout",
          "text": [
            "Training loss: 0.3995969773435008\n",
            "Training loss: 0.25830306501181394\n"
          ]
        }
      ]
    },
    {
      "cell_type": "code",
      "source": [
        "correct = 0\n",
        "total = 0\n",
        "with torch.no_grad():\n",
        "    for images, labels in testloader:\n",
        "        log_ps = model2(images)\n",
        "        _, predicted = torch.max(log_ps.data, 1)\n",
        "        total += labels.size(0)\n",
        "        correct += (predicted == labels).sum().item()\n",
        "\n",
        "print(f'Accuracy of the network on the 10000 test images: {100 * correct // total} %')\n"
      ],
      "metadata": {
        "colab": {
          "base_uri": "https://localhost:8080/"
        },
        "id": "y8_RHjY9gRhb",
        "outputId": "26cecb1b-42da-4bb3-b675-7c13f642abf6"
      },
      "execution_count": 11,
      "outputs": [
        {
          "output_type": "stream",
          "name": "stdout",
          "text": [
            "Accuracy of the network on the 10000 test images: 92 %\n"
          ]
        }
      ]
    },
    {
      "cell_type": "markdown",
      "source": [
        "**for 20 epochs, naming it as model3**"
      ],
      "metadata": {
        "id": "LyM95FVkhq9G"
      }
    },
    {
      "cell_type": "code",
      "source": [
        "class Net3(nn.Module):\n",
        "    def __init__(self):\n",
        "        super(Net3, self).__init__()\n",
        "        self.flatten = nn.Flatten()\n",
        "        self.fc1 = nn.Linear(28*28, 128)\n",
        "        self.dropout = nn.Dropout(0.2)\n",
        "        self.fc2 = nn.Linear(128, 10)\n",
        "\n",
        "    def forward(self, x):\n",
        "        x = self.flatten(x)\n",
        "        x = F.relu(self.fc1(x))\n",
        "        x = self.dropout(x)\n",
        "        x = self.fc2(x)\n",
        "        return F.log_softmax(x, dim=1)\n",
        "\n",
        "model3 = Net3()\n"
      ],
      "metadata": {
        "id": "rk0_X43EhmWe"
      },
      "execution_count": 22,
      "outputs": []
    },
    {
      "cell_type": "code",
      "source": [
        "optimizer = optim.Adam(model3.parameters(), lr=0.003)\n",
        "criterion = nn.NLLLoss()\n",
        "\n",
        "epochs = 20\n",
        "for e in range(epochs):\n",
        "    running_loss = 0\n",
        "    for images, labels in trainloader:\n",
        "        optimizer.zero_grad()\n",
        "        log_ps = model3(images)\n",
        "        loss = criterion(log_ps, labels)\n",
        "        loss.backward()\n",
        "        optimizer.step()\n",
        "        running_loss += loss.item()\n",
        "    else:\n",
        "        print(f\"Training loss: {running_loss/len(trainloader)}\")\n"
      ],
      "metadata": {
        "colab": {
          "base_uri": "https://localhost:8080/"
        },
        "id": "jWlzciVeh4Ff",
        "outputId": "435b0fc8-bd02-4d0d-d01f-299cbd83e3a6"
      },
      "execution_count": 23,
      "outputs": [
        {
          "output_type": "stream",
          "name": "stdout",
          "text": [
            "Training loss: 0.41102257585808283\n",
            "Training loss: 0.26743661200027985\n",
            "Training loss: 0.23779554899607194\n",
            "Training loss: 0.21696824935088152\n",
            "Training loss: 0.20884798690358966\n",
            "Training loss: 0.2006096127214653\n",
            "Training loss: 0.19013998817914585\n",
            "Training loss: 0.1859439299074508\n",
            "Training loss: 0.1818376425752984\n",
            "Training loss: 0.18233951608012958\n",
            "Training loss: 0.174858563470402\n",
            "Training loss: 0.1742619782714034\n",
            "Training loss: 0.17414396521208414\n",
            "Training loss: 0.16576803886323674\n",
            "Training loss: 0.16124965776818426\n",
            "Training loss: 0.16078768149693448\n",
            "Training loss: 0.159583575560896\n",
            "Training loss: 0.155064611719536\n",
            "Training loss: 0.15267098718968186\n",
            "Training loss: 0.1538129439071091\n"
          ]
        }
      ]
    },
    {
      "cell_type": "code",
      "source": [
        "correct = 0\n",
        "total = 0\n",
        "with torch.no_grad():\n",
        "    for images, labels in testloader:\n",
        "        log_ps = model3(images)\n",
        "        _, predicted = torch.max(log_ps.data, 1)\n",
        "        total += labels.size(0)\n",
        "        correct += (predicted == labels).sum().item()\n",
        "\n",
        "print(f'Accuracy of the network on the 10000 test images: {100 * correct // total} %')\n"
      ],
      "metadata": {
        "colab": {
          "base_uri": "https://localhost:8080/"
        },
        "id": "yIKMxNBvh9y6",
        "outputId": "e89a4887-7103-4828-e7c1-a52cb94cf9ef"
      },
      "execution_count": 24,
      "outputs": [
        {
          "output_type": "stream",
          "name": "stdout",
          "text": [
            "Accuracy of the network on the 10000 test images: 94 %\n"
          ]
        }
      ]
    },
    {
      "cell_type": "markdown",
      "source": [
        "**accuracy vs no of epochs**\n",
        "\n",
        "1. 2 epochs : **93 %**\n",
        "2. 5 epochs : **94 %**\n",
        "3. 15 epochs : **94 %**\n",
        "4. 20 epochs : **95 %**"
      ],
      "metadata": {
        "id": "uxe-4PC7j4BR"
      }
    },
    {
      "cell_type": "markdown",
      "source": [
        "**Increasing the number of epochs:**\n",
        "\n",
        "1. The model will have more opportunities to learn from the entire training\n",
        "dataset. Typically, this means that the training loss will continue to decrease as the model parameters are fine-tuned.\n",
        "2. The accuracy of the test dataset will likely improve up to a certain point. However, after reaching an optimal level, it might start to plateau or even decrease if the model begins to overfit to the training data.\n",
        "3. The training time will increase linearly with the number of epochs because the model is iterating over the entire training dataset more times."
      ],
      "metadata": {
        "id": "Um3JoenigwQz"
      }
    },
    {
      "cell_type": "code",
      "source": [
        "#todo: Modify the Model Architecture\n",
        "# Change the architecture of the neural network. Here are a few suggestions:\n",
        "# Add another fully connected layer with ReLU activation and observe the impact.\n",
        "# Increase or decrease the number of neurons in the hidden layers.\n",
        "# Introduce dropout in additional places or modify the dropout rate.\n",
        "\n",
        "#How does each modification affect the model's accuracy and training behavior? explain.\n",
        "# Can you achieve higher accuracy with a more complex or deeper network? explain\n"
      ],
      "metadata": {
        "id": "BR3htPGu2WQS"
      },
      "execution_count": 25,
      "outputs": []
    },
    {
      "cell_type": "code",
      "source": [
        "# Example Changes:\n",
        "\n",
        "class ModifiedNet(nn.Module):\n",
        "    def __init__(self):\n",
        "        super(ModifiedNet, self).__init__()\n",
        "        self.flatten = nn.Flatten()\n",
        "        self.fc1 = nn.Linear(28*28, 256)  # Increased number of neurons\n",
        "        self.fc2 = nn.Linear(256, 128)    # Additional layer\n",
        "        self.dropout = nn.Dropout(0.3)    # Adjusted dropout rate\n",
        "        self.fc3 = nn.Linear(128, 10)\n",
        "\n",
        "    def forward(self, x):\n",
        "        x = self.flatten(x)\n",
        "        x = F.relu(self.fc1(x))\n",
        "        x = self.dropout(x)\n",
        "        x = F.relu(self.fc2(x))           # Additional ReLU activation\n",
        "        x = self.dropout(x)               # Additional dropout\n",
        "        x = self.fc3(x)\n",
        "        return F.log_softmax(x, dim=1)\n"
      ],
      "metadata": {
        "id": "BqKbUmdD2jV4"
      },
      "execution_count": 26,
      "outputs": []
    },
    {
      "cell_type": "markdown",
      "source": [
        "**Add another fully connected layer with ReLU activation**"
      ],
      "metadata": {
        "id": "tE_FfTX2odJ3"
      }
    },
    {
      "cell_type": "code",
      "source": [
        "class ModifiedNet1(nn.Module):\n",
        "    def __init__(self):\n",
        "        super(ModifiedNet1, self).__init__()\n",
        "        self.flatten = nn.Flatten()\n",
        "        self.fc1 = nn.Linear(28*28, 128)\n",
        "        self.fc2 = nn.Linear(128, 128)    # Additional layer\n",
        "        self.dropout = nn.Dropout(0.2)\n",
        "        self.fc3 = nn.Linear(128, 10)\n",
        "\n",
        "    def forward(self, x):\n",
        "        x = self.flatten(x)\n",
        "        x = F.relu(self.fc1(x))\n",
        "        x = self.dropout(x)\n",
        "        x = self.fc2(x)\n",
        "        return F.log_softmax(x, dim=1)\n",
        "model4 = ModifiedNet1()"
      ],
      "metadata": {
        "id": "bBzz3JaYotac"
      },
      "execution_count": 27,
      "outputs": []
    },
    {
      "cell_type": "code",
      "source": [
        "optimizer = optim.Adam(model4.parameters(), lr=0.003)\n",
        "criterion = nn.NLLLoss()\n",
        "\n",
        "epochs = 20\n",
        "for e in range(epochs):\n",
        "    running_loss = 0\n",
        "    for images, labels in trainloader:\n",
        "        optimizer.zero_grad()\n",
        "        log_ps = model4(images)\n",
        "        loss = criterion(log_ps, labels)\n",
        "        loss.backward()\n",
        "        optimizer.step()\n",
        "        running_loss += loss.item()\n",
        "    else:\n",
        "        print(f\"Training loss: {running_loss/len(trainloader)}\")\n"
      ],
      "metadata": {
        "colab": {
          "base_uri": "https://localhost:8080/"
        },
        "id": "mTxMtfnVpcmD",
        "outputId": "82ec8d31-35d6-442c-af1f-0bf19a2e942f"
      },
      "execution_count": 28,
      "outputs": [
        {
          "output_type": "stream",
          "name": "stdout",
          "text": [
            "Training loss: 0.41375291288725097\n",
            "Training loss: 0.25427474390103744\n",
            "Training loss: 0.2237642876970679\n",
            "Training loss: 0.214555209375489\n",
            "Training loss: 0.19852781414127807\n",
            "Training loss: 0.19019526063299763\n",
            "Training loss: 0.18188847812897424\n",
            "Training loss: 0.1748397908906248\n",
            "Training loss: 0.17402938255138678\n",
            "Training loss: 0.16273015098316645\n",
            "Training loss: 0.16713485599104275\n",
            "Training loss: 0.16049882619063865\n",
            "Training loss: 0.15933071007566857\n",
            "Training loss: 0.1553531102419122\n",
            "Training loss: 0.15701630650890439\n",
            "Training loss: 0.1512492100722087\n",
            "Training loss: 0.14739706457010718\n",
            "Training loss: 0.14798450034989447\n",
            "Training loss: 0.14391544072438023\n",
            "Training loss: 0.14240791632194144\n"
          ]
        }
      ]
    },
    {
      "cell_type": "code",
      "source": [
        "correct = 0\n",
        "total = 0\n",
        "with torch.no_grad():\n",
        "    for images, labels in testloader:\n",
        "        log_ps = model4(images)\n",
        "        _, predicted = torch.max(log_ps.data, 1)\n",
        "        total += labels.size(0)\n",
        "        correct += (predicted == labels).sum().item()\n",
        "\n",
        "print(f'Accuracy of the network on the 10000 test images: {100 * correct // total} %')\n"
      ],
      "metadata": {
        "colab": {
          "base_uri": "https://localhost:8080/"
        },
        "id": "LO_RAatKp5Et",
        "outputId": "e6004de1-6db5-48ff-86f9-3547460088b2"
      },
      "execution_count": 29,
      "outputs": [
        {
          "output_type": "stream",
          "name": "stdout",
          "text": [
            "Accuracy of the network on the 10000 test images: 95 %\n"
          ]
        }
      ]
    },
    {
      "cell_type": "markdown",
      "source": [
        "**Increase the number of neurons in the hidden layers.**"
      ],
      "metadata": {
        "id": "lmQ3M_rShw1i"
      }
    },
    {
      "cell_type": "code",
      "source": [
        "class ModifiedNet2(nn.Module):\n",
        "    def __init__(self):\n",
        "        super(ModifiedNet2, self).__init__()\n",
        "        self.flatten = nn.Flatten()\n",
        "        self.fc1 = nn.Linear(28*28, 256) # Increased number of neurons\n",
        "        self.dropout = nn.Dropout(0.2)\n",
        "        self.fc2 = nn.Linear(256, 10)\n",
        "\n",
        "    def forward(self, x):\n",
        "        x = self.flatten(x)\n",
        "        x = F.relu(self.fc1(x))\n",
        "        x = self.dropout(x)\n",
        "        x = self.fc2(x)\n",
        "        return F.log_softmax(x, dim=1)\n",
        "\n",
        "model5 = ModifiedNet2()"
      ],
      "metadata": {
        "id": "MkXkBO62h-qy"
      },
      "execution_count": 30,
      "outputs": []
    },
    {
      "cell_type": "code",
      "source": [
        "optimizer = optim.Adam(model5.parameters(), lr=0.003)\n",
        "criterion = nn.NLLLoss()\n",
        "\n",
        "epochs = 20\n",
        "for e in range(epochs):\n",
        "    running_loss = 0\n",
        "    for images, labels in trainloader:\n",
        "        optimizer.zero_grad()\n",
        "        log_ps = model5(images)\n",
        "        loss = criterion(log_ps, labels)\n",
        "        loss.backward()\n",
        "        optimizer.step()\n",
        "        running_loss += loss.item()\n",
        "    else:\n",
        "        print(f\"Training loss: {running_loss/len(trainloader)}\")"
      ],
      "metadata": {
        "colab": {
          "base_uri": "https://localhost:8080/"
        },
        "id": "r0k6cSuli75W",
        "outputId": "644f0968-cbd2-4717-a35a-45b584334269"
      },
      "execution_count": 31,
      "outputs": [
        {
          "output_type": "stream",
          "name": "stdout",
          "text": [
            "Training loss: 0.3585294672706996\n",
            "Training loss: 0.22984090346350536\n",
            "Training loss: 0.2003799675862545\n",
            "Training loss: 0.1931676099321116\n",
            "Training loss: 0.1757923477420659\n",
            "Training loss: 0.16428664737720605\n",
            "Training loss: 0.16305462614909164\n",
            "Training loss: 0.15504515781772257\n",
            "Training loss: 0.15395071471967836\n",
            "Training loss: 0.14280274964825335\n",
            "Training loss: 0.14108479931639797\n",
            "Training loss: 0.13390429382984922\n",
            "Training loss: 0.13388331593729175\n",
            "Training loss: 0.12996321534469868\n",
            "Training loss: 0.13127161098320458\n",
            "Training loss: 0.12558933238842404\n",
            "Training loss: 0.12084439965233064\n",
            "Training loss: 0.1246790668067298\n",
            "Training loss: 0.11783635368206298\n",
            "Training loss: 0.11957064802388051\n"
          ]
        }
      ]
    },
    {
      "cell_type": "code",
      "source": [
        "correct = 0\n",
        "total = 0\n",
        "with torch.no_grad():\n",
        "    for images, labels in testloader:\n",
        "        log_ps = model5(images)\n",
        "        _, predicted = torch.max(log_ps.data, 1)\n",
        "        total += labels.size(0)\n",
        "        correct += (predicted == labels).sum().item()\n",
        "\n",
        "print(f'Accuracy of the network on the 10000 test images: {100 * correct // total} %')\n"
      ],
      "metadata": {
        "colab": {
          "base_uri": "https://localhost:8080/"
        },
        "id": "4GIUm58OirNc",
        "outputId": "ae4f8ee8-d77f-44fa-b20b-0200afb550a1"
      },
      "execution_count": 32,
      "outputs": [
        {
          "output_type": "stream",
          "name": "stdout",
          "text": [
            "Accuracy of the network on the 10000 test images: 95 %\n"
          ]
        }
      ]
    },
    {
      "cell_type": "markdown",
      "source": [
        "**Decrease the number of neurons in the hidden layers.**"
      ],
      "metadata": {
        "id": "aMFOVQzlj1wZ"
      }
    },
    {
      "cell_type": "code",
      "source": [
        "class ModifiedNet3(nn.Module):\n",
        "    def __init__(self):\n",
        "        super(ModifiedNet3, self).__init__()\n",
        "        self.flatten = nn.Flatten()\n",
        "        self.fc1 = nn.Linear(28*28, 64) # decreased number of neurons\n",
        "        self.dropout = nn.Dropout(0.2)\n",
        "        self.fc2 = nn.Linear(64, 10)\n",
        "\n",
        "    def forward(self, x):\n",
        "        x = self.flatten(x)\n",
        "        x = F.relu(self.fc1(x))\n",
        "        x = self.dropout(x)\n",
        "        x = self.fc2(x)\n",
        "        return F.log_softmax(x, dim=1)\n",
        "\n",
        "model6 = ModifiedNet3()"
      ],
      "metadata": {
        "id": "1BFtdbfWkRRd"
      },
      "execution_count": 33,
      "outputs": []
    },
    {
      "cell_type": "code",
      "source": [
        "optimizer = optim.Adam(model6.parameters(), lr=0.003)\n",
        "criterion = nn.NLLLoss()\n",
        "\n",
        "epochs = 20\n",
        "for e in range(epochs):\n",
        "    running_loss = 0\n",
        "    for images, labels in trainloader:\n",
        "        optimizer.zero_grad()\n",
        "        log_ps = model6(images)\n",
        "        loss = criterion(log_ps, labels)\n",
        "        loss.backward()\n",
        "        optimizer.step()\n",
        "        running_loss += loss.item()\n",
        "    else:\n",
        "        print(f\"Training loss: {running_loss/len(trainloader)}\")"
      ],
      "metadata": {
        "colab": {
          "base_uri": "https://localhost:8080/"
        },
        "id": "M7q7Dk-bkeZL",
        "outputId": "c26ef86e-8fe6-45ca-d1b8-410f5f2d15e9"
      },
      "execution_count": 34,
      "outputs": [
        {
          "output_type": "stream",
          "name": "stdout",
          "text": [
            "Training loss: 0.45771797085558175\n",
            "Training loss: 0.3104320034575361\n",
            "Training loss: 0.27513801300925994\n",
            "Training loss: 0.26262176592848196\n",
            "Training loss: 0.24884672480017772\n",
            "Training loss: 0.23758625423412588\n",
            "Training loss: 0.2269713125749628\n",
            "Training loss: 0.22792919513100246\n",
            "Training loss: 0.22377680591952953\n",
            "Training loss: 0.21606845709322486\n",
            "Training loss: 0.21325995510956372\n",
            "Training loss: 0.21576250268658723\n",
            "Training loss: 0.20709136935042294\n",
            "Training loss: 0.205795551149814\n",
            "Training loss: 0.205584948870546\n",
            "Training loss: 0.20136609566070315\n",
            "Training loss: 0.19896278970801373\n",
            "Training loss: 0.1992588127270214\n",
            "Training loss: 0.19854223754590572\n",
            "Training loss: 0.195157262180914\n"
          ]
        }
      ]
    },
    {
      "cell_type": "code",
      "source": [
        "correct = 0\n",
        "total = 0\n",
        "with torch.no_grad():\n",
        "    for images, labels in testloader:\n",
        "        log_ps = model6(images)\n",
        "        _, predicted = torch.max(log_ps.data, 1)\n",
        "        total += labels.size(0)\n",
        "        correct += (predicted == labels).sum().item()\n",
        "\n",
        "print(f'Accuracy of the network on the 10000 test images: {100 * correct // total} %')"
      ],
      "metadata": {
        "colab": {
          "base_uri": "https://localhost:8080/"
        },
        "id": "4QkN2BL9kwJS",
        "outputId": "c0120914-c31a-4e55-c517-2b6115c3a9d3"
      },
      "execution_count": 35,
      "outputs": [
        {
          "output_type": "stream",
          "name": "stdout",
          "text": [
            "Accuracy of the network on the 10000 test images: 93 %\n"
          ]
        }
      ]
    },
    {
      "cell_type": "markdown",
      "source": [
        "**modifying the dropout rate**"
      ],
      "metadata": {
        "id": "5SfEMa0hlDBY"
      }
    },
    {
      "cell_type": "code",
      "source": [
        "class ModifiedNet4(nn.Module):\n",
        "    def __init__(self):\n",
        "        super(ModifiedNet4, self).__init__()\n",
        "        self.flatten = nn.Flatten()\n",
        "        self.fc1 = nn.Linear(28*28, 128)\n",
        "        self.dropout = nn.Dropout(0.3) #modified dropout\n",
        "        self.fc2 = nn.Linear(128, 10)\n",
        "\n",
        "    def forward(self, x):\n",
        "        x = self.flatten(x)\n",
        "        x = F.relu(self.fc1(x))\n",
        "        x = self.dropout(x)\n",
        "        x = self.fc2(x)\n",
        "        return F.log_softmax(x, dim=1)\n",
        "\n",
        "model7 = ModifiedNet4()"
      ],
      "metadata": {
        "id": "BUkJYlrElLOc"
      },
      "execution_count": 36,
      "outputs": []
    },
    {
      "cell_type": "code",
      "source": [
        "optimizer = optim.Adam(model7.parameters(), lr=0.003)\n",
        "criterion = nn.NLLLoss()\n",
        "\n",
        "epochs = 20\n",
        "for e in range(epochs):\n",
        "    running_loss = 0\n",
        "    for images, labels in trainloader:\n",
        "        optimizer.zero_grad()\n",
        "        log_ps = model7(images)\n",
        "        loss = criterion(log_ps, labels)\n",
        "        loss.backward()\n",
        "        optimizer.step()\n",
        "        running_loss += loss.item()\n",
        "    else:\n",
        "        print(f\"Training loss: {running_loss/len(trainloader)}\")"
      ],
      "metadata": {
        "colab": {
          "base_uri": "https://localhost:8080/"
        },
        "id": "1Tjxcoislcfp",
        "outputId": "61b0a93e-38ff-4663-c1cb-f3fdb3904f01"
      },
      "execution_count": 37,
      "outputs": [
        {
          "output_type": "stream",
          "name": "stdout",
          "text": [
            "Training loss: 0.4572741872212018\n",
            "Training loss: 0.31072349496868884\n",
            "Training loss: 0.27881216918672325\n",
            "Training loss: 0.2649833452401321\n",
            "Training loss: 0.24688395685446796\n",
            "Training loss: 0.2432835256255893\n",
            "Training loss: 0.23469452556373596\n",
            "Training loss: 0.2239696923186625\n",
            "Training loss: 0.23037260509074242\n",
            "Training loss: 0.22065779631699262\n",
            "Training loss: 0.2147061669293529\n",
            "Training loss: 0.2149187975855016\n",
            "Training loss: 0.20850615392028016\n",
            "Training loss: 0.2089116012137423\n",
            "Training loss: 0.205597487977271\n",
            "Training loss: 0.208260873705943\n",
            "Training loss: 0.1987459033912322\n",
            "Training loss: 0.19909218037679696\n",
            "Training loss: 0.19443260986647848\n",
            "Training loss: 0.19064539764523267\n"
          ]
        }
      ]
    },
    {
      "cell_type": "code",
      "source": [
        "correct = 0\n",
        "total = 0\n",
        "with torch.no_grad():\n",
        "    for images, labels in testloader:\n",
        "        log_ps = model7(images)\n",
        "        _, predicted = torch.max(log_ps.data, 1)\n",
        "        total += labels.size(0)\n",
        "        correct += (predicted == labels).sum().item()\n",
        "\n",
        "print(f'Accuracy of the network on the 10000 test images: {100 * correct // total} %')"
      ],
      "metadata": {
        "colab": {
          "base_uri": "https://localhost:8080/"
        },
        "id": "Pz0v3Orrlh7X",
        "outputId": "beabea53-e108-470d-e2f7-2e3201cc358f"
      },
      "execution_count": 38,
      "outputs": [
        {
          "output_type": "stream",
          "name": "stdout",
          "text": [
            "Accuracy of the network on the 10000 test images: 93 %\n"
          ]
        }
      ]
    },
    {
      "cell_type": "markdown",
      "source": [
        "**additional ReLU and dropout**"
      ],
      "metadata": {
        "id": "rEXvzrEDmnk9"
      }
    },
    {
      "cell_type": "code",
      "source": [
        "class ModifiedNet5(nn.Module):\n",
        "    def __init__(self):\n",
        "        super(ModifiedNet5, self).__init__()\n",
        "        self.flatten = nn.Flatten()\n",
        "        self.fc1 = nn.Linear(28*28, 128)\n",
        "        self.dropout = nn.Dropout(0.2)\n",
        "        self.fc2 = nn.Linear(128, 10)\n",
        "\n",
        "    def forward(self, x):\n",
        "        x = self.flatten(x)\n",
        "        x = F.relu(self.fc1(x))\n",
        "        x = self.dropout(x)\n",
        "        x = F.relu(self.fc2(x))           # Additional ReLU activation\n",
        "        x = self.dropout(x)               # Additional dropout\n",
        "        x = self.fc3(x)\n",
        "        return F.log_softmax(x, dim=1)\n",
        "\n",
        "model8 = ModifiedNet4()"
      ],
      "metadata": {
        "id": "gY0L6w_6myq_"
      },
      "execution_count": 39,
      "outputs": []
    },
    {
      "cell_type": "code",
      "source": [
        "optimizer = optim.Adam(model8.parameters(), lr=0.003)\n",
        "criterion = nn.NLLLoss()\n",
        "\n",
        "epochs = 20\n",
        "for e in range(epochs):\n",
        "    running_loss = 0\n",
        "    for images, labels in trainloader:\n",
        "        optimizer.zero_grad()\n",
        "        log_ps = model8(images)\n",
        "        loss = criterion(log_ps, labels)\n",
        "        loss.backward()\n",
        "        optimizer.step()\n",
        "        running_loss += loss.item()\n",
        "    else:\n",
        "        print(f\"Training loss: {running_loss/len(trainloader)}\")"
      ],
      "metadata": {
        "colab": {
          "base_uri": "https://localhost:8080/"
        },
        "id": "jqxw-t8SnBpK",
        "outputId": "70daa950-56a7-401a-97fa-f8592172f850"
      },
      "execution_count": 40,
      "outputs": [
        {
          "output_type": "stream",
          "name": "stdout",
          "text": [
            "Training loss: 0.46356142739624356\n",
            "Training loss: 0.3194917391326382\n",
            "Training loss: 0.2884514129230145\n",
            "Training loss: 0.27331061370130666\n",
            "Training loss: 0.2564602778164118\n",
            "Training loss: 0.25309288532320245\n",
            "Training loss: 0.23788692540070142\n",
            "Training loss: 0.23101229729778222\n",
            "Training loss: 0.23089638002899918\n",
            "Training loss: 0.22418514875444903\n",
            "Training loss: 0.22202014838502224\n",
            "Training loss: 0.21886033999092225\n",
            "Training loss: 0.21765589576635533\n",
            "Training loss: 0.21294457018613688\n",
            "Training loss: 0.21539087986140681\n",
            "Training loss: 0.2073247091852621\n",
            "Training loss: 0.20484606150402698\n",
            "Training loss: 0.20622081613775764\n",
            "Training loss: 0.1998607801483956\n",
            "Training loss: 0.20024140077287644\n"
          ]
        }
      ]
    },
    {
      "cell_type": "code",
      "source": [
        "correct = 0\n",
        "total = 0\n",
        "with torch.no_grad():\n",
        "    for images, labels in testloader:\n",
        "        log_ps = model8(images)\n",
        "        _, predicted = torch.max(log_ps.data, 1)\n",
        "        total += labels.size(0)\n",
        "        correct += (predicted == labels).sum().item()\n",
        "\n",
        "print(f'Accuracy of the network on the 10000 test images: {100 * correct // total} %')"
      ],
      "metadata": {
        "colab": {
          "base_uri": "https://localhost:8080/"
        },
        "id": "n5rBJr2AnFWV",
        "outputId": "8831c1dc-d574-4e64-c930-e7faab1a7f7b"
      },
      "execution_count": 41,
      "outputs": [
        {
          "output_type": "stream",
          "name": "stdout",
          "text": [
            "Accuracy of the network on the 10000 test images: 92 %\n"
          ]
        }
      ]
    },
    {
      "cell_type": "markdown",
      "source": [
        "**with all changes altogether**"
      ],
      "metadata": {
        "id": "xiX5mP-8uHNs"
      }
    },
    {
      "cell_type": "code",
      "source": [
        "class ModifiedNet5(nn.Module):\n",
        "    def __init__(self):\n",
        "        super(ModifiedNet5, self).__init__()\n",
        "        self.flatten = nn.Flatten()\n",
        "        self.fc1 = nn.Linear(28*28, 256)  # Increased number of neurons\n",
        "        self.fc2 = nn.Linear(256, 128)    # Additional layer\n",
        "        self.dropout = nn.Dropout(0.3)    # Adjusted dropout rate\n",
        "        self.fc3 = nn.Linear(128, 10)\n",
        "\n",
        "    def forward(self, x):\n",
        "        x = self.flatten(x)\n",
        "        x = F.relu(self.fc1(x))\n",
        "        x = self.dropout(x)\n",
        "        x = F.relu(self.fc2(x))           # Additional ReLU activation\n",
        "        x = self.dropout(x)               # Additional dropout\n",
        "        x = self.fc3(x)\n",
        "        return F.log_softmax(x, dim=1)\n",
        "\n",
        "model9 = ModifiedNet5()"
      ],
      "metadata": {
        "id": "vla8IHjduGv2"
      },
      "execution_count": 42,
      "outputs": []
    },
    {
      "cell_type": "code",
      "source": [
        "optimizer = optim.Adam(model9.parameters(), lr=0.003)\n",
        "criterion = nn.NLLLoss()\n",
        "\n",
        "epochs = 20\n",
        "for e in range(epochs):\n",
        "    running_loss = 0\n",
        "    for images, labels in trainloader:\n",
        "        optimizer.zero_grad()\n",
        "        log_ps = model9(images)\n",
        "        loss = criterion(log_ps, labels)\n",
        "        loss.backward()\n",
        "        optimizer.step()\n",
        "        running_loss += loss.item()\n",
        "    else:\n",
        "        print(f\"Training loss: {running_loss/len(trainloader)}\")"
      ],
      "metadata": {
        "colab": {
          "base_uri": "https://localhost:8080/"
        },
        "id": "C0zgje_-udPE",
        "outputId": "db7ac8c7-14e0-40c5-bebc-68f0f2cd33da"
      },
      "execution_count": 43,
      "outputs": [
        {
          "output_type": "stream",
          "name": "stdout",
          "text": [
            "Training loss: 0.47534200449043246\n",
            "Training loss: 0.3267217439803869\n",
            "Training loss: 0.28802105522295557\n",
            "Training loss: 0.2777249833731763\n",
            "Training loss: 0.259275123218833\n",
            "Training loss: 0.256519166067608\n",
            "Training loss: 0.24654350234672173\n",
            "Training loss: 0.2491480047816534\n",
            "Training loss: 0.24002797218329552\n",
            "Training loss: 0.23121560863586568\n",
            "Training loss: 0.22851601981524147\n",
            "Training loss: 0.22246670669742993\n",
            "Training loss: 0.22533384806264056\n",
            "Training loss: 0.22311759937697573\n",
            "Training loss: 0.21521798014712296\n",
            "Training loss: 0.21088243946472782\n",
            "Training loss: 0.21342799606433174\n",
            "Training loss: 0.21439393276749835\n",
            "Training loss: 0.20606014027254288\n",
            "Training loss: 0.20592331549704773\n"
          ]
        }
      ]
    },
    {
      "cell_type": "code",
      "source": [
        "correct = 0\n",
        "total = 0\n",
        "with torch.no_grad():\n",
        "    for images, labels in testloader:\n",
        "        log_ps = model9(images)\n",
        "        _, predicted = torch.max(log_ps.data, 1)\n",
        "        total += labels.size(0)\n",
        "        correct += (predicted == labels).sum().item()\n",
        "\n",
        "print(f'Accuracy of the network on the 10000 test images: {100 * correct // total} %')"
      ],
      "metadata": {
        "colab": {
          "base_uri": "https://localhost:8080/"
        },
        "id": "uezTIZYzuhDl",
        "outputId": "5b67f67e-0ba6-4d0f-9ee9-eb945dae79fd"
      },
      "execution_count": 44,
      "outputs": [
        {
          "output_type": "stream",
          "name": "stdout",
          "text": [
            "Accuracy of the network on the 10000 test images: 94 %\n"
          ]
        }
      ]
    },
    {
      "cell_type": "markdown",
      "source": [
        "7. Visualize the Predictions\n"
      ],
      "metadata": {
        "id": "qgQ0qi7Q4tHK"
      }
    },
    {
      "cell_type": "code",
      "source": [
        "#todo: Select a few images from the test set and visualize their predicted labels along with the true labels.\n",
        "# Use Matplotlib to display the images and predictions."
      ],
      "metadata": {
        "id": "GQVujieX252f"
      },
      "execution_count": 45,
      "outputs": []
    },
    {
      "cell_type": "code",
      "source": [
        "import matplotlib.pyplot as plt\n",
        "import numpy as np\n",
        "\n",
        "# Function to display images along with their predicted and true labels\n",
        "def visualize_images(images, predicted_labels, true_labels, classes):\n",
        "    fig, axs = plt.subplots(2, 5, figsize=(15, 6))\n",
        "    axs = axs.ravel()\n",
        "    for i in range(10):\n",
        "        axs[i].imshow(np.squeeze(images[i]), cmap='gray')\n",
        "        axs[i].set_title(f'Predicted: {classes[predicted_labels[i]]}\\nTrue: {classes[true_labels[i]]}')\n",
        "        axs[i].axis('off')\n",
        "    plt.tight_layout()\n",
        "    plt.show()\n",
        "\n",
        "# Define class names\n",
        "classes = ['0','1', '2', '3', '4', '5',\n",
        "           '6', '7', '8', '9']"
      ],
      "metadata": {
        "id": "4CQAExmLfhgK"
      },
      "execution_count": 46,
      "outputs": []
    },
    {
      "cell_type": "markdown",
      "source": [
        "** for 15 epochs : MODEL 1**"
      ],
      "metadata": {
        "id": "xvuo_HTxgXwb"
      }
    },
    {
      "cell_type": "code",
      "source": [
        "# Get a batch of test images and their true labels\n",
        "images, labels = next(iter(testloader))\n",
        "\n",
        "# Get the predicted labels\n",
        "with torch.no_grad():\n",
        "    log_ps = model1(images)\n",
        "    _, predicted = torch.max(log_ps, 1)\n",
        "\n",
        "\n",
        "# Visualize the images along with predicted and true labels\n",
        "visualize_images(images, predicted, labels, classes)\n"
      ],
      "metadata": {
        "colab": {
          "base_uri": "https://localhost:8080/",
          "height": 556
        },
        "id": "xe0p4ju0hq41",
        "outputId": "dd1cf60a-973b-45ce-8d9e-e8b07b85f77c"
      },
      "execution_count": 47,
      "outputs": [
        {
          "output_type": "display_data",
          "data": {
            "text/plain": [
              "<Figure size 1500x600 with 10 Axes>"
            ],
            "image/png": "[encoded data removed]"
          },
          "metadata": {}
        }
      ]
    },
    {
      "cell_type": "markdown",
      "source": [
        "** for 2 epochs: MODEL 2**"
      ],
      "metadata": {
        "id": "8u1SQ15MgWdg"
      }
    },
    {
      "cell_type": "code",
      "source": [
        "# Get a batch of test images and their true labels\n",
        "images, labels = next(iter(testloader))\n",
        "\n",
        "# Get the predicted labels\n",
        "with torch.no_grad():\n",
        "    log_ps = model2(images)\n",
        "    _, predicted = torch.max(log_ps, 1)\n",
        "\n",
        "\n",
        "# Visualize the images along with predicted and true labels\n",
        "visualize_images(images, predicted, labels, classes)\n"
      ],
      "metadata": {
        "colab": {
          "base_uri": "https://localhost:8080/",
          "height": 556
        },
        "id": "NVb_Of9PhpLD",
        "outputId": "beffd942-ac0f-40b7-9857-90feaf3abec5"
      },
      "execution_count": 56,
      "outputs": [
        {
          "output_type": "display_data",
          "data": {
            "text/plain": [
              "<Figure size 1500x600 with 10 Axes>"
            ],
            "image/png": "[encoded data removed]"
          },
          "metadata": {}
        }
      ]
    },
    {
      "cell_type": "markdown",
      "source": [
        "** for 20 epochs: MODEL 3**"
      ],
      "metadata": {
        "id": "DwlUcVSygTsm"
      }
    },
    {
      "cell_type": "code",
      "source": [
        "# Get a batch of test images and their true labels\n",
        "images, labels = next(iter(testloader))\n",
        "\n",
        "# Get the predicted labels\n",
        "with torch.no_grad():\n",
        "    log_ps = model3(images)\n",
        "    _, predicted = torch.max(log_ps, 1)\n",
        "\n",
        "\n",
        "# Visualize the images along with predicted and true labels\n",
        "visualize_images(images, predicted, labels, classes)\n"
      ],
      "metadata": {
        "colab": {
          "base_uri": "https://localhost:8080/",
          "height": 556
        },
        "id": "0zClmPfMhnnm",
        "outputId": "215778cb-a6c3-4068-f10f-550eef3faa8a"
      },
      "execution_count": 49,
      "outputs": [
        {
          "output_type": "display_data",
          "data": {
            "text/plain": [
              "<Figure size 1500x600 with 10 Axes>"
            ],
            "image/png": "[encoded data removed]"
          },
          "metadata": {}
        }
      ]
    },
    {
      "cell_type": "markdown",
      "source": [
        " Add another fully connected layer with ReLU activation: MODEL 4"
      ],
      "metadata": {
        "id": "yoK0UZS-gR1w"
      }
    },
    {
      "cell_type": "code",
      "source": [
        "# Get a batch of test images and their true labels\n",
        "images, labels = next(iter(testloader))\n",
        "\n",
        "# Get the predicted labels\n",
        "with torch.no_grad():\n",
        "    log_ps = model4(images)\n",
        "    _, predicted = torch.max(log_ps, 1)\n",
        "\n",
        "\n",
        "# Visualize the images along with predicted and true labels\n",
        "visualize_images(images, predicted, labels, classes)\n"
      ],
      "metadata": {
        "colab": {
          "base_uri": "https://localhost:8080/",
          "height": 556
        },
        "id": "5mE-FNiDhl6s",
        "outputId": "f9e40d6b-1bc0-4754-e07d-68103fe11545"
      },
      "execution_count": 50,
      "outputs": [
        {
          "output_type": "display_data",
          "data": {
            "text/plain": [
              "<Figure size 1500x600 with 10 Axes>"
            ],
            "image/png": "[encoded data removed]"
          },
          "metadata": {}
        }
      ]
    },
    {
      "cell_type": "markdown",
      "source": [
        "Increase the number of neurons in the hidden layers: MODEL 5"
      ],
      "metadata": {
        "id": "2YXGEdwugQhW"
      }
    },
    {
      "cell_type": "code",
      "source": [
        "# Get a batch of test images and their true labels\n",
        "images, labels = next(iter(testloader))\n",
        "\n",
        "# Get the predicted labels\n",
        "with torch.no_grad():\n",
        "    log_ps = model5(images)\n",
        "    _, predicted = torch.max(log_ps, 1)\n",
        "\n",
        "\n",
        "# Visualize the images along with predicted and true labels\n",
        "visualize_images(images, predicted, labels, classes)\n"
      ],
      "metadata": {
        "colab": {
          "base_uri": "https://localhost:8080/",
          "height": 556
        },
        "id": "n2ubiPDrhjkc",
        "outputId": "0b3142bc-a0a7-4846-a01d-6a73359e27d7"
      },
      "execution_count": 51,
      "outputs": [
        {
          "output_type": "display_data",
          "data": {
            "text/plain": [
              "<Figure size 1500x600 with 10 Axes>"
            ],
            "image/png": "[encoded data removed]"
          },
          "metadata": {}
        }
      ]
    },
    {
      "cell_type": "markdown",
      "source": [
        "** Decrease the number of neurons in the hidden layers: MODEL 6**"
      ],
      "metadata": {
        "id": "D3JNBK3BgOQX"
      }
    },
    {
      "cell_type": "code",
      "source": [
        "# Get a batch of test images and their true labels\n",
        "images, labels = next(iter(testloader))\n",
        "\n",
        "# Get the predicted labels\n",
        "with torch.no_grad():\n",
        "    log_ps = model6(images)\n",
        "    _, predicted = torch.max(log_ps, 1)\n",
        "\n",
        "\n",
        "# Visualize the images along with predicted and true labels\n",
        "visualize_images(images, predicted, labels, classes)\n"
      ],
      "metadata": {
        "colab": {
          "base_uri": "https://localhost:8080/",
          "height": 556
        },
        "id": "TxIwveHVhh1o",
        "outputId": "e5ef37d0-6e38-4a51-a813-8048820d4116"
      },
      "execution_count": 52,
      "outputs": [
        {
          "output_type": "display_data",
          "data": {
            "text/plain": [
              "<Figure size 1500x600 with 10 Axes>"
            ],
            "image/png": "[encoded data removed]"
          },
          "metadata": {}
        }
      ]
    },
    {
      "cell_type": "markdown",
      "source": [
        "**modifying the dropout rate : MODEL 7**"
      ],
      "metadata": {
        "id": "F6QPTuGWgCS8"
      }
    },
    {
      "cell_type": "code",
      "source": [
        "# Get a batch of test images and their true labels\n",
        "images, labels = next(iter(testloader))\n",
        "\n",
        "# Get the predicted labels\n",
        "with torch.no_grad():\n",
        "    log_ps = model7(images)\n",
        "    _, predicted = torch.max(log_ps, 1)\n",
        "\n",
        "\n",
        "# Visualize the images along with predicted and true labels\n",
        "visualize_images(images, predicted, labels, classes)\n"
      ],
      "metadata": {
        "colab": {
          "base_uri": "https://localhost:8080/",
          "height": 556
        },
        "id": "2rC7X6Eahfwh",
        "outputId": "d99e60ed-750d-47ac-d1fb-65601d9d8d20"
      },
      "execution_count": 53,
      "outputs": [
        {
          "output_type": "display_data",
          "data": {
            "text/plain": [
              "<Figure size 1500x600 with 10 Axes>"
            ],
            "image/png": "[encoded data removed]"
          },
          "metadata": {}
        }
      ]
    },
    {
      "cell_type": "markdown",
      "source": [
        "**additional ReLU and dropout : MODEL 8**"
      ],
      "metadata": {
        "id": "VCiFDoVjfy7X"
      }
    },
    {
      "cell_type": "code",
      "source": [
        "# Get a batch of test images and their true labels\n",
        "images, labels = next(iter(testloader))\n",
        "\n",
        "# Get the predicted labels\n",
        "with torch.no_grad():\n",
        "    log_ps = model8(images)\n",
        "    _, predicted = torch.max(log_ps, 1)\n",
        "\n",
        "\n",
        "# Visualize the images along with predicted and true labels\n",
        "visualize_images(images, predicted, labels, classes)\n"
      ],
      "metadata": {
        "colab": {
          "base_uri": "https://localhost:8080/",
          "height": 556
        },
        "id": "LxJow2c8fuHM",
        "outputId": "ea15d26e-3069-4d0d-f255-d0546a024348"
      },
      "execution_count": 54,
      "outputs": [
        {
          "output_type": "display_data",
          "data": {
            "text/plain": [
              "<Figure size 1500x600 with 10 Axes>"
            ],
            "image/png": "[encoded data removed]"
          },
          "metadata": {}
        }
      ]
    },
    {
      "cell_type": "markdown",
      "source": [
        "**with all changes altogether : FOR MODEL 9**"
      ],
      "metadata": {
        "id": "_y6acUXZfUnS"
      }
    },
    {
      "cell_type": "code",
      "source": [
        "# Get a batch of test images and their true labels\n",
        "images, labels = next(iter(testloader))\n",
        "\n",
        "# Get the predicted labels\n",
        "with torch.no_grad():\n",
        "    log_ps = model9(images)\n",
        "    _, predicted = torch.max(log_ps, 1)\n",
        "\n",
        "\n",
        "# Visualize the images along with predicted and true labels\n",
        "visualize_images(images, predicted, labels, classes)\n"
      ],
      "metadata": {
        "colab": {
          "base_uri": "https://localhost:8080/",
          "height": 556
        },
        "id": "Mj01z2ZZrqKz",
        "outputId": "116f3969-b50b-4fef-aca3-9ec8176cdfe9"
      },
      "execution_count": 55,
      "outputs": [
        {
          "output_type": "display_data",
          "data": {
            "text/plain": [
              "<Figure size 1500x600 with 10 Axes>"
            ],
            "image/png": "[encoded data removed]"
          },
          "metadata": {}
        }
      ]
    }
  ]
}